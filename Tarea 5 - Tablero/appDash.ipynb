{
 "cells": [
  {
   "cell_type": "markdown",
   "metadata": {},
   "source": [
    "### Librerías y datos"
   ]
  },
  {
   "cell_type": "code",
   "execution_count": 22,
   "metadata": {},
   "outputs": [],
   "source": [
    "import dash\n",
    "from dash import dcc, html, Input, Output, State\n",
    "import dash_bootstrap_components as dbc\n",
    "import plotly.express as px\n",
    "import plotly.graph_objects as go\n",
    "import pandas as pd"
   ]
  },
  {
   "cell_type": "code",
   "execution_count": 23,
   "metadata": {},
   "outputs": [],
   "source": [
    "data_df = pd.read_csv('Modelamiento\\datosPreparados.csv')\n",
    "coef_df = pd.read_csv(\"Modelamiento\\modeloFinal.csv\")"
   ]
  },
  {
   "cell_type": "markdown",
   "metadata": {},
   "source": [
    "### Dash"
   ]
  },
  {
   "cell_type": "code",
   "execution_count": 24,
   "metadata": {},
   "outputs": [],
   "source": [
    "# Inicializar app\n",
    "app = dash.Dash(__name__)\n",
    "app.title = \"Alquileres de Vivienda\""
   ]
  },
  {
   "cell_type": "code",
   "execution_count": 25,
   "metadata": {},
   "outputs": [],
   "source": [
    "# Layout\n",
    "app.layout = html.Div([\n",
    "    html.H1(\"Dashboard de Alquileres\"),\n",
    "    \n",
    "    # Filtros\n",
    "    html.Div([\n",
    "        dcc.Dropdown(\n",
    "            id='cityname-filter',\n",
    "            options=[{'label': city, 'value': city} for city in data_df.columns if city.startswith('cityname_')],\n",
    "            placeholder=\"Seleccione una ciudad\"\n",
    "        ),\n",
    "        dcc.Dropdown(\n",
    "            id='state-filter',\n",
    "            options=[],  # Se debe cargar dinámicamente\n",
    "            placeholder=\"Seleccione un estado\"\n",
    "        ),\n",
    "        dcc.RangeSlider(\n",
    "            id='price-filter',\n",
    "            min=data_df['price'].min(),\n",
    "            max=data_df['price'].max(),\n",
    "            marks={i: f'${i}' for i in range(int(data_df['price'].min()), int(data_df['price'].max()), 500)},\n",
    "            step=10,\n",
    "            value=[data_df['price'].min(), data_df['price'].max()]\n",
    "        ),\n",
    "        dcc.Input(id='bathrooms-filter', type='number', placeholder=\"Número de baños\"),\n",
    "        dcc.Checklist(\n",
    "            id='amenities-filter',\n",
    "            options=[{'label': amenity, 'value': amenity} for amenity in ['Pool', 'Parking', 'Elevator']],\n",
    "            inline=True\n",
    "        )\n",
    "    ]),\n",
    "    \n",
    "    # KPIs\n",
    "    html.Div([\n",
    "        html.H3(\"KPIs\"),\n",
    "        html.P(id='average-price'),\n",
    "        html.P(id='amenities-impact'),\n",
    "        html.P(id='top-cities')\n",
    "    ]),\n",
    "    \n",
    "    # Visualizaciones\n",
    "    dcc.Graph(id='price-heatmap'),\n",
    "    dcc.Graph(id='coefficient-bar-chart'),\n",
    "    dcc.Graph(id='boxplot-photos'),\n",
    "    \n",
    "    # Simulador de precios\n",
    "    html.Div([\n",
    "        html.H3(\"Simulador de Precios\"),\n",
    "        dcc.Input(id='sim-bathrooms', type='number', placeholder=\"Número de baños\"),\n",
    "        dcc.Input(id='sim-size', type='number', placeholder=\"Tamaño en pies cuadrados\"),\n",
    "        dcc.Dropdown(\n",
    "            id='sim-city',\n",
    "            options=[{'label': city, 'value': city} for city in data_df.columns if city.startswith('cityname_')],\n",
    "            placeholder=\"Seleccione una ciudad\"\n",
    "        ),\n",
    "        dcc.Checklist(\n",
    "            id='sim-amenities',\n",
    "            options=[{'label': amenity, 'value': amenity} for amenity in ['Pool', 'Parking', 'Elevator']],\n",
    "            inline=True\n",
    "        ),\n",
    "        html.Button(\"Calcular Precio\", id='calculate-price'),\n",
    "        html.P(id='estimated-price')\n",
    "    ])\n",
    "])"
   ]
  },
  {
   "cell_type": "code",
   "execution_count": 26,
   "metadata": {},
   "outputs": [],
   "source": [
    "# Callbacks\n",
    "@app.callback(\n",
    "    Output('average-price', 'children'),\n",
    "    Input('cityname-filter', 'value')\n",
    ")\n",
    "def update_average_price(city):\n",
    "    if city:\n",
    "        filtered_df = data_df[data_df[city] == 1]\n",
    "        avg_price = filtered_df['price'].mean()\n",
    "        return f\"Precio promedio en {city}: ${avg_price:.2f}\"\n",
    "    return \"Seleccione una ciudad\"\n",
    "\n",
    "@app.callback(\n",
    "    Output('price-heatmap', 'figure'),\n",
    "    Input('cityname-filter', 'value')\n",
    ")\n",
    "def update_heatmap(city):\n",
    "    fig = px.scatter_mapbox(data_df, lat=\"latitude\", lon=\"longitude\", color=\"price\", zoom=3,\n",
    "                            mapbox_style=\"carto-positron\")\n",
    "    return fig\n"
   ]
  },
  {
   "cell_type": "code",
   "execution_count": 27,
   "metadata": {},
   "outputs": [
    {
     "data": {
      "text/html": [
       "\n",
       "        <iframe\n",
       "            width=\"100%\"\n",
       "            height=\"650\"\n",
       "            src=\"http://127.0.0.1:8050/\"\n",
       "            frameborder=\"0\"\n",
       "            allowfullscreen\n",
       "            \n",
       "        ></iframe>\n",
       "        "
      ],
      "text/plain": [
       "<IPython.lib.display.IFrame at 0x18c2c854f50>"
      ]
     },
     "metadata": {},
     "output_type": "display_data"
    },
    {
     "name": "stderr",
     "output_type": "stream",
     "text": [
      "C:\\Users\\sofia\\AppData\\Local\\Temp\\ipykernel_18216\\1730427777.py:18: DeprecationWarning:\n",
      "\n",
      "*scatter_mapbox* is deprecated! Use *scatter_map* instead. Learn more at: https://plotly.com/python/mapbox-to-maplibre/\n",
      "\n"
     ]
    }
   ],
   "source": [
    "if __name__ == '__main__':\n",
    "    app.run_server(debug=True)"
   ]
  }
 ],
 "metadata": {
  "kernelspec": {
   "display_name": "Python 3",
   "language": "python",
   "name": "python3"
  },
  "language_info": {
   "codemirror_mode": {
    "name": "ipython",
    "version": 3
   },
   "file_extension": ".py",
   "mimetype": "text/x-python",
   "name": "python",
   "nbconvert_exporter": "python",
   "pygments_lexer": "ipython3",
   "version": "3.11.0"
  }
 },
 "nbformat": 4,
 "nbformat_minor": 2
}
